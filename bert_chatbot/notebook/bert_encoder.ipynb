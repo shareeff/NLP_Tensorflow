{
 "cells": [
  {
   "cell_type": "code",
   "execution_count": 1,
   "metadata": {},
   "outputs": [],
   "source": [
    "import sys\n",
    "import os\n",
    "sys.path.append(os.path.abspath('../transformers'))\n",
    "sys.path.append(os.path.abspath('..'))"
   ]
  },
  {
   "cell_type": "code",
   "execution_count": 2,
   "metadata": {},
   "outputs": [],
   "source": [
    "import tensorflow as tf\n",
    "from transformers import BertTokenizer\n",
    "from bert_model import BertForChatBotEncoder\n",
    "from data_utils import CornellMovieDialogsProcessor, InputExample, InputFeatures, cornell_movie_convert_examples_to_features"
   ]
  },
  {
   "cell_type": "code",
   "execution_count": 8,
   "metadata": {},
   "outputs": [],
   "source": [
    "bert_model_name = 'bert-base-uncased'\n",
    "max_seq_len = 128"
   ]
  },
  {
   "cell_type": "code",
   "execution_count": 4,
   "metadata": {},
   "outputs": [],
   "source": [
    "encoder = BertForChatBotEncoder.from_pretrained(bert_model_name)\n",
    "tokenizer = BertTokenizer.from_pretrained(bert_model_name)"
   ]
  },
  {
   "cell_type": "code",
   "execution_count": 5,
   "metadata": {},
   "outputs": [
    {
     "name": "stdout",
     "output_type": "stream",
     "text": [
      "\n",
      "tain dataset length 177292\n",
      "\n",
      "test dataset length 44323\n"
     ]
    }
   ],
   "source": [
    "processor = CornellMovieDialogsProcessor()\n",
    "train_examples = processor.get_train_examples()"
   ]
  },
  {
   "cell_type": "code",
   "execution_count": 9,
   "metadata": {},
   "outputs": [
    {
     "name": "stderr",
     "output_type": "stream",
     "text": [
      "Token indices sequence length is longer than the specified maximum sequence length for this model (625 > 512). Running this sequence through the model will result in indexing errors\n",
      "Token indices sequence length is longer than the specified maximum sequence length for this model (759 > 512). Running this sequence through the model will result in indexing errors\n"
     ]
    }
   ],
   "source": [
    "train_dataset = cornell_movie_convert_examples_to_features(train_examples, tokenizer, max_seq_len)"
   ]
  },
  {
   "cell_type": "code",
   "execution_count": 10,
   "metadata": {},
   "outputs": [],
   "source": [
    "BATCH_SIZE = 32\n",
    "train_dataset = train_dataset.shuffle(128).batch(BATCH_SIZE).repeat(-1)\n",
    "inputs, outputs = next(iter(train_dataset))"
   ]
  },
  {
   "cell_type": "code",
   "execution_count": 11,
   "metadata": {},
   "outputs": [
    {
     "name": "stdout",
     "output_type": "stream",
     "text": [
      "(32, 128, 768)\n",
      "tf.Tensor(\n",
      "[[ 5.4464769e-02  1.6689995e-01 -2.2200669e-01 ... -2.7881795e-01\n",
      "   2.4938908e-01  4.9396640e-01]\n",
      " [ 6.7550206e-01 -3.2437924e-01 -5.4312229e-01 ...  4.0880838e-01\n",
      "   5.5375260e-01 -3.6375853e-01]\n",
      " [ 1.2069271e+00 -4.9328655e-01  3.2600094e-02 ... -1.6165900e-01\n",
      "  -4.3702346e-01 -4.0551090e-01]\n",
      " ...\n",
      " [-4.4428993e-02  1.6593713e-01  3.0843139e-01 ...  3.1920537e-01\n",
      "  -4.9804240e-02 -4.2992137e-02]\n",
      " [ 4.3273441e-02  1.9643731e-01  3.5096818e-01 ...  2.3953702e-01\n",
      "   8.9483708e-04 -3.0776950e-02]\n",
      " [ 2.4671705e-02  2.3176374e-01  3.8788468e-01 ...  2.6369423e-01\n",
      "  -3.6122382e-02  4.3372408e-02]], shape=(128, 768), dtype=float32)\n"
     ]
    }
   ],
   "source": [
    "sequence_output = encoder(inputs)\n",
    "print(sequence_output.shape)\n",
    "print(sequence_output[0])"
   ]
  },
  {
   "cell_type": "code",
   "execution_count": null,
   "metadata": {},
   "outputs": [],
   "source": []
  }
 ],
 "metadata": {
  "kernelspec": {
   "display_name": "Python 3",
   "language": "python",
   "name": "python3"
  },
  "language_info": {
   "codemirror_mode": {
    "name": "ipython",
    "version": 3
   },
   "file_extension": ".py",
   "mimetype": "text/x-python",
   "name": "python",
   "nbconvert_exporter": "python",
   "pygments_lexer": "ipython3",
   "version": "3.7.5"
  }
 },
 "nbformat": 4,
 "nbformat_minor": 4
}
