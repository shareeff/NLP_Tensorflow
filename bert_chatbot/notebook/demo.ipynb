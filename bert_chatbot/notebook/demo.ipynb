{
 "cells": [
  {
   "cell_type": "code",
   "execution_count": 1,
   "metadata": {},
   "outputs": [],
   "source": [
    "import sys\n",
    "import os\n",
    "sys.path.append(os.path.abspath('../transformers'))\n",
    "sys.path.append(os.path.abspath('..'))"
   ]
  },
  {
   "cell_type": "code",
   "execution_count": 2,
   "metadata": {},
   "outputs": [],
   "source": [
    "import tensorflow as tf\n",
    "from transformers import BertTokenizer\n",
    "from bert_model import Config, Transformer\n",
    "from configuration import *\n",
    "from run_demo import chatbot"
   ]
  },
  {
   "cell_type": "code",
   "execution_count": 3,
   "metadata": {},
   "outputs": [],
   "source": [
    "tokenizer = BertTokenizer.from_pretrained(BERT_MODEL_NAME)\n",
    "config = Config(num_layers=NUM_LAYERS, d_model=D_MODEL, dff=DFF, num_heads=NUM_HEADS)\n",
    "transformer = Transformer(config, VOCAB_SIZE, BERT_MODEL_NAME)"
   ]
  },
  {
   "cell_type": "code",
   "execution_count": 4,
   "metadata": {},
   "outputs": [],
   "source": [
    "demo_sentense = 'How are you?'\n",
    "chatbot(demo_sentense, tokenizer, transformer, demo=False)"
   ]
  },
  {
   "cell_type": "code",
   "execution_count": 5,
   "metadata": {},
   "outputs": [],
   "source": [
    "saved_weight_path = \"../save/model/bertchatbot_weights.h5\"\n",
    "transformer.load_weights(saved_weight_path)"
   ]
  },
  {
   "cell_type": "code",
   "execution_count": 7,
   "metadata": {},
   "outputs": [
    {
     "name": "stdout",
     "output_type": "stream",
     "text": [
      "Input: where am I?\n",
      "Output: you re in the office.\n"
     ]
    }
   ],
   "source": [
    "input = 'where am I?'\n",
    "output, _ = chatbot(input, tokenizer, transformer)"
   ]
  },
  {
   "cell_type": "code",
   "execution_count": 8,
   "metadata": {},
   "outputs": [
    {
     "name": "stdout",
     "output_type": "stream",
     "text": [
      "Input: who are you?\n",
      "Output: i m a friend of a man.\n"
     ]
    }
   ],
   "source": [
    "input = 'who are you?'\n",
    "output, _ = chatbot(input, tokenizer, transformer)"
   ]
  },
  {
   "cell_type": "code",
   "execution_count": 9,
   "metadata": {},
   "outputs": [
    {
     "name": "stdout",
     "output_type": "stream",
     "text": [
      "Input: how are you doing?\n",
      "Output: fine.\n"
     ]
    }
   ],
   "source": [
    "input = 'how are you doing?'\n",
    "output, _ = chatbot(input, tokenizer, transformer)"
   ]
  },
  {
   "cell_type": "code",
   "execution_count": 10,
   "metadata": {},
   "outputs": [
    {
     "name": "stdout",
     "output_type": "stream",
     "text": [
      "Input: are you my friend?\n",
      "Output: yes.\n"
     ]
    }
   ],
   "source": [
    "input = 'are you my friend?'\n",
    "output, _ = chatbot(input, tokenizer, transformer)"
   ]
  },
  {
   "cell_type": "code",
   "execution_count": 11,
   "metadata": {},
   "outputs": [
    {
     "name": "stdout",
     "output_type": "stream",
     "text": [
      "Input: you're under arrest\n",
      "Output: i m not going to be a man!\n"
     ]
    }
   ],
   "source": [
    "input = \"you're under arrest\"\n",
    "output, _ = chatbot(input, tokenizer, transformer)"
   ]
  },
  {
   "cell_type": "code",
   "execution_count": 12,
   "metadata": {},
   "outputs": [
    {
     "name": "stdout",
     "output_type": "stream",
     "text": [
      "Input: i'm just kidding\n",
      "Output: i m sorry, i m not going to be able to get a chance to get out of here.\n"
     ]
    }
   ],
   "source": [
    "input = \"i'm just kidding\"\n",
    "output, _ = chatbot(input, tokenizer, transformer)"
   ]
  },
  {
   "cell_type": "code",
   "execution_count": null,
   "metadata": {},
   "outputs": [],
   "source": []
  }
 ],
 "metadata": {
  "kernelspec": {
   "display_name": "Python 3",
   "language": "python",
   "name": "python3"
  },
  "language_info": {
   "codemirror_mode": {
    "name": "ipython",
    "version": 3
   },
   "file_extension": ".py",
   "mimetype": "text/x-python",
   "name": "python",
   "nbconvert_exporter": "python",
   "pygments_lexer": "ipython3",
   "version": "3.7.5"
  }
 },
 "nbformat": 4,
 "nbformat_minor": 4
}
